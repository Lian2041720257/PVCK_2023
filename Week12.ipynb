{
  "nbformat": 4,
  "nbformat_minor": 0,
  "metadata": {
    "colab": {
      "provenance": [],
      "mount_file_id": "11nMuOpADJkXcDdh6eqqY4yn6BToZWoP5",
      "authorship_tag": "ABX9TyNw4aQ22aksESqQ3aHMPhaA",
      "include_colab_link": true
    },
    "kernelspec": {
      "name": "python3",
      "display_name": "Python 3"
    },
    "language_info": {
      "name": "python"
    }
  },
  "cells": [
    {
      "cell_type": "markdown",
      "metadata": {
        "id": "view-in-github",
        "colab_type": "text"
      },
      "source": [
        "<a href=\"https://colab.research.google.com/github/lianmega/PVCK_2023/blob/main/Week12.ipynb\" target=\"_parent\"><img src=\"https://colab.research.google.com/assets/colab-badge.svg\" alt=\"Open In Colab\"/></a>"
      ]
    },
    {
      "cell_type": "markdown",
      "source": [
        "**Lian Mega Pratiwi / 2041720257**\n",
        "\n",
        "Face Detection"
      ],
      "metadata": {
        "id": "h7ClRGhkbXu-"
      }
    },
    {
      "cell_type": "code",
      "execution_count": 4,
      "metadata": {
        "colab": {
          "base_uri": "https://localhost:8080/"
        },
        "id": "yj3DZRTFbU-9",
        "outputId": "5b04b82b-32e9-43f8-af3f-4f6a0da7377a"
      },
      "outputs": [
        {
          "output_type": "stream",
          "name": "stdout",
          "text": [
            "Drive already mounted at /content/drive; to attempt to forcibly remount, call drive.mount(\"/content/drive\", force_remount=True).\n"
          ]
        }
      ],
      "source": [
        "from google.colab import drive\n",
        "\n",
        "drive.mount('/content/drive')"
      ]
    },
    {
      "cell_type": "code",
      "source": [
        "import cv2 as cv\n",
        "import numpy as np\n",
        "from matplotlib import pyplot as plt\n",
        "from google.colab.patches import cv2_imshow"
      ],
      "metadata": {
        "id": "t4BYTcbYcyVL"
      },
      "execution_count": 5,
      "outputs": []
    },
    {
      "cell_type": "code",
      "source": [
        "# Read Image\n",
        "jokowi = plt.imread('/content/drive/MyDrive/PCVK/facedet/jokowi.jpg')\n",
        "kartini = plt.imread('/content/drive/MyDrive/PCVK/facedet/kartini.jpg')\n",
        "mycat = cv.imread('/content/drive/MyDrive/PCVK/facedet/mycat.jpg', 0) # 0 agar dibaca grayscale\n",
        "mask = cv.imread('/content/drive/MyDrive/PCVK/facedet/mask.png', 0)\n",
        "mjordan = cv.imread('/content/drive/MyDrive/PCVK/facedet/mjordan.jpg', 0)\n",
        "solvayconf = cv.imread('/content/drive/MyDrive/PCVK/facedet/solvayconf.jpg')\n",
        "\n",
        "# Pretrained feature\n",
        "cascade_wajah = cv.CascadeClassifier('/content/drive/MyDrive/PCVK/facedet/haarcascade_frontalface_alt.xml')\n",
        "\n",
        "# Cascade classifier kucing yang diberikan melalui file melakukan hasil deteksi yang salah, jadi diubah menggunakan cv.data.haarcascade\n",
        "cascade_kucing = cv.CascadeClassifier(cv.data.haarcascades + 'haarcascade_frontalcatface.xml')"
      ],
      "metadata": {
        "id": "1Mioj3eQc9qZ"
      },
      "execution_count": 6,
      "outputs": []
    },
    {
      "cell_type": "code",
      "source": [
        "# jokowi.jpg\n",
        "\n",
        "jokowi1 = jokowi.copy()\n",
        "\n",
        "roi_wajah = cascade_wajah.detectMultiScale(jokowi)\n",
        "\n",
        "for(x, y, w, h) in roi_wajah:\n",
        "  cv.rectangle(jokowi1, (x, y), (x+w, y+h), (0, 255, 0), 3)\n",
        "\n",
        "plt.figure(figsize = (10, 10))\n",
        "f, axarr = plt.subplots(1, 2, figsize = (8, 8))\n",
        "plt.subplot(121), plt.imshow(jokowi)\n",
        "plt.subplot(122), plt.imshow(jokowi1)\n",
        "plt.show()\n",
        "\n",
        "# kartini.jpg\n",
        "\n",
        "kartini1 = kartini.copy()\n",
        "\n",
        "roi_wajah = cascade_wajah.detectMultiScale(kartini)\n",
        "\n",
        "for(x, y, w, h) in roi_wajah:\n",
        "  cv.rectangle(kartini1, (x, y), (x+w, y+h), (0, 255, 0), 3)\n",
        "\n",
        "plt.figure(figsize = (10, 10))\n",
        "f, axarr = plt.subplots(1, 2, figsize = (8, 8))\n",
        "plt.subplot(121), plt.imshow(kartini)\n",
        "plt.subplot(122), plt.imshow(kartini1)\n",
        "plt.show()\n",
        "\n",
        "# mycat.jpg\n",
        "\n",
        "mycat1 = cv.cvtColor(mycat, cv.COLOR_GRAY2RGB)\n",
        "\n",
        "roi_wajah = cascade_wajah.detectMultiScale(mycat)\n",
        "\n",
        "for(x, y, w, h) in roi_wajah:\n",
        "  cv.rectangle(mycat1, (x, y), (x+w, y+h), (0, 255, 0), 3)\n",
        "\n",
        "plt.figure(figsize = (10, 10))\n",
        "f, axarr = plt.subplots(1, 2, figsize = (8, 8))\n",
        "plt.subplot(121), plt.imshow(mycat, cmap = 'gray')\n",
        "plt.subplot(122), plt.imshow(mycat1)\n",
        "plt.show()\n",
        "\n",
        "# mask.png\n",
        "\n",
        "mask1 = cv.cvtColor(mask, cv.COLOR_GRAY2RGB)\n",
        "\n",
        "roi_wajah = cascade_wajah.detectMultiScale(mask)\n",
        "\n",
        "for(x, y, w, h) in roi_wajah:\n",
        "  cv.rectangle(mask1, (x, y), (x+w, y+h), (0, 255, 0), 3)\n",
        "\n",
        "plt.figure(figsize = (10, 10))\n",
        "f, axarr = plt.subplots(1, 2, figsize = (8, 8))\n",
        "plt.subplot(121), plt.imshow(mask, cmap = 'gray')\n",
        "plt.subplot(122), plt.imshow(mask1)\n",
        "plt.show()\n",
        "\n",
        "# mjordan.jpg\n",
        "\n",
        "mjordan1 = cv.cvtColor(mjordan, cv.COLOR_GRAY2RGB)\n",
        "\n",
        "roi_wajah = cascade_wajah.detectMultiScale(mjordan)\n",
        "\n",
        "for(x, y, w, h) in roi_wajah:\n",
        "  cv.rectangle(mjordan1, (x, y), (x+w, y+h), (0, 255, 0), 3)\n",
        "\n",
        "plt.figure(figsize = (10, 10))\n",
        "f, axarr = plt.subplots(1, 2, figsize = (8, 8))\n",
        "plt.subplot(121), plt.imshow(mjordan, cmap = 'gray')\n",
        "plt.subplot(122), plt.imshow(mjordan1)\n",
        "plt.show()\n",
        "\n",
        "# solvay.jpg\n",
        "\n",
        "solvay1 = solvay.copy()\n",
        "\n",
        "roi_wajah = cascade_wajah.detectMultiScale(solvayconf)\n",
        "\n",
        "for(x, y, w, h) in roi_wajah:\n",
        "  cv.rectangle(solvay1, (x, y), (x+w, y+h), (0, 255, 0), 3)\n",
        "\n",
        "plt.figure(figsize = (10, 10))\n",
        "f, axarr = plt.subplots(1, 2, figsize = (10, 10))\n",
        "plt.subplot(121), plt.imshow(solvayconf)\n",
        "plt.subplot(122), plt.imshow(solvay1)\n",
        "plt.show()"
      ],
      "metadata": {
        "colab": {
          "base_uri": "https://localhost:8080/",
          "height": 270
        },
        "id": "RMgcXzfaePGc",
        "outputId": "33195587-da36-45e4-b33f-fc9b5c7d38c9"
      },
      "execution_count": 11,
      "outputs": [
        {
          "output_type": "error",
          "ename": "error",
          "evalue": "ignored",
          "traceback": [
            "\u001b[0;31m---------------------------------------------------------------------------\u001b[0m",
            "\u001b[0;31merror\u001b[0m                                     Traceback (most recent call last)",
            "\u001b[0;32m<ipython-input-11-6c7afbea94d8>\u001b[0m in \u001b[0;36m<cell line: 5>\u001b[0;34m()\u001b[0m\n\u001b[1;32m      3\u001b[0m \u001b[0mjokowi1\u001b[0m \u001b[0;34m=\u001b[0m \u001b[0mjokowi\u001b[0m\u001b[0;34m.\u001b[0m\u001b[0mcopy\u001b[0m\u001b[0;34m(\u001b[0m\u001b[0;34m)\u001b[0m\u001b[0;34m\u001b[0m\u001b[0;34m\u001b[0m\u001b[0m\n\u001b[1;32m      4\u001b[0m \u001b[0;34m\u001b[0m\u001b[0m\n\u001b[0;32m----> 5\u001b[0;31m \u001b[0mroi_wajah\u001b[0m \u001b[0;34m=\u001b[0m \u001b[0mcascade_wajah\u001b[0m\u001b[0;34m.\u001b[0m\u001b[0mdetectMultiScale\u001b[0m\u001b[0;34m(\u001b[0m\u001b[0mjokowi\u001b[0m\u001b[0;34m)\u001b[0m\u001b[0;34m\u001b[0m\u001b[0;34m\u001b[0m\u001b[0m\n\u001b[0m\u001b[1;32m      6\u001b[0m \u001b[0;34m\u001b[0m\u001b[0m\n\u001b[1;32m      7\u001b[0m \u001b[0;32mfor\u001b[0m\u001b[0;34m(\u001b[0m\u001b[0mx\u001b[0m\u001b[0;34m,\u001b[0m \u001b[0my\u001b[0m\u001b[0;34m,\u001b[0m \u001b[0mw\u001b[0m\u001b[0;34m,\u001b[0m \u001b[0mh\u001b[0m\u001b[0;34m)\u001b[0m \u001b[0;32min\u001b[0m \u001b[0mroi_wajah\u001b[0m\u001b[0;34m:\u001b[0m\u001b[0;34m\u001b[0m\u001b[0;34m\u001b[0m\u001b[0m\n",
            "\u001b[0;31merror\u001b[0m: OpenCV(4.8.0) /io/opencv/modules/objdetect/src/cascadedetect.cpp:1689: error: (-215:Assertion failed) !empty() in function 'detectMultiScale'\n"
          ]
        }
      ]
    }
  ]
}